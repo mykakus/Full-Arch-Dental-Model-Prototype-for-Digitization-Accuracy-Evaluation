{
 "cells": [
  {
   "cell_type": "code",
   "execution_count": 1,
   "id": "37f9a7a6-e86c-4bff-9165-32088a01e8b7",
   "metadata": {},
   "outputs": [],
   "source": [
    "import cloudComPy as cc\n",
    "import cloudComPy.RANSAC_SD\n",
    "import trimesh\n",
    "import igl\n",
    "import numpy as np\n",
    "import pickle\n",
    "import os\n",
    "from multiprocessing import Pool\n",
    "import time\n",
    "from Py_RMSE_Sphere import SDF_individual_sphere"
   ]
  },
  {
   "cell_type": "markdown",
   "id": "7ada0cfe-1776-43d1-aa9f-a7c4b2772db8",
   "metadata": {},
   "source": [
    "# Define paths"
   ]
  },
  {
   "cell_type": "code",
   "execution_count": null,
   "id": "2d75d2b9-f661-4e78-b6f4-2b26eb7f4e89",
   "metadata": {},
   "outputs": [],
   "source": [
    "Dir_main='PATH' #path for importing STL files (scanned dental arches). Files in the directory must be named using numbers: '1.stl', '2.stl', etc.\n",
    "Path_to_save=\"PATH\" #path for saving pickle files\n"
   ]
  },
  {
   "cell_type": "markdown",
   "id": "95c57e3b",
   "metadata": {},
   "source": [
    "# Parameters to tune"
   ]
  },
  {
   "cell_type": "code",
   "execution_count": 2,
   "id": "82be78cd",
   "metadata": {},
   "outputs": [],
   "source": [
    "#------------------- RANSAC parametrai (change accordingly) --------------------------\n",
    "#parameters were set to be compatible with 'Arch_model_2.5mm.stl'\n",
    "\n",
    "params = cc.RANSAC_SD.RansacParams()\n",
    "\n",
    "params.allowSimplification=False\n",
    "params.maxSphereRadius=2.6\n",
    "params.minSphereRadius=2.4\n",
    "params.maxNormalDev_deg=20\n",
    "params.setPrimEnabled(cc.RANSAC_SD.RPT_PLANE,False)\n",
    "params.setPrimEnabled(cc.RANSAC_SD.RPT_CYLINDER,False)\n",
    "\n",
    "params.epsilon=0.1 \n",
    "params.bitmapEpsilon=0.2"
   ]
  },
  {
   "cell_type": "markdown",
   "id": "17d85732-6988-42e1-9687-f0bdeb215771",
   "metadata": {},
   "source": [
    "# Main"
   ]
  },
  {
   "cell_type": "code",
   "execution_count": null,
   "id": "cc221cc5-08c0-43de-8fb4-669b15a13df2",
   "metadata": {},
   "outputs": [],
   "source": [
    "start_time = time.time()\n",
    "\n",
    "for igg,file_to_import in enumerate([f for f in os.listdir(Dir_main) if f.endswith('.stl')]):\n",
    "    Reduces=trimesh.load(os.path.join(Dir_main,file_to_import))\n",
    "\n",
    "    cloud = cc.ccPointCloud()\n",
    "    cloud.coordsFromNPArray_copy(Reduces.vertices)\n",
    "    cc.computeNormals([cloud])\n",
    "    cloud.normalsFromNpArrayCopy(Reduces.vertex_normals.copy(order='C'))  \n",
    "   \n",
    "    #[cc.RANSAC_SD.RPT_CONE,cc.RANSAC_SD.RPT_PLANE,cc.RANSAC_SD.RPT_SPHERE,cc.RANSAC_SD.RPT_CYLINDER,cc.RANSAC_SD.RPT_TORUS]\n",
    "    \n",
    "    MEGA_Store_R=[]\n",
    "    MEGA_Store_SD_outlier=[] \n",
    "    MEGA_Store_SD_sphers=[]\n",
    "    \n",
    "    for index_loop,sample_size in zip(range(20),np.arange(150,250,5)): #Running RANSAC multiple times to reduce stochasticity\n",
    "        params.supportPoints=sample_size\n",
    "        meshes, clouds = cc.RANSAC_SD.computeRANSAC_SD(cloud, params)\n",
    "        Store_Sphere_R_OG=[] # Radius fitted sphere\n",
    "        Store_Sphere_C_OG=[] # Center fitter sphere\n",
    "        Store_point_cloud=[] # Center fitter sphere\n",
    "        \n",
    "        Store_SD_outlier=[] \n",
    "        Store_SD_sphers=[]\n",
    "        #----------------------------First RANSAC---------------------------------\n",
    "        for indexx,cl in enumerate(clouds):\n",
    "           if cl is not None:\n",
    "            if cl.getName()==\"Leftovers\":\n",
    "             Left_over=cl\n",
    "            else:\n",
    "\n",
    "             center_OG=meshes[indexx].getAssociatedCloud().computeGravityCenter()\n",
    "             radius_OG=meshes[indexx].getRadius()\n",
    "             Store_point_cloud.append(cl.toNpArray())\n",
    "             Store_Sphere_R_OG.append(radius_OG)\n",
    "             Store_Sphere_C_OG.append(center_OG)\n",
    "                   \n",
    "        Store_Sphere_C_OG=np.array(Store_Sphere_C_OG)\n",
    "        Store_Sphere_R_OG=np.array(Store_Sphere_R_OG) \n",
    "        #----------------Create model form sphere (CSG) and compute SDF------------------\n",
    "        List_Sphere_created=[trimesh.primitives.Sphere(R_OG,C_OG,subdivisions =4) for C_OG,R_OG in zip(Store_Sphere_C_OG,Store_Sphere_R_OG)]\n",
    "        Bool_Spheres_real=trimesh.boolean.boolean_manifold(List_Sphere_created,'union') # combine spheres into one model\n",
    "        # ------------------------Compute RMSE values for each sphere fitted--------------\n",
    "        with Pool(processes=os.cpu_count()) as pool:\n",
    "            saved_area = pool.map(SDF_individual_sphere, list(zip(Store_Sphere_R_OG, Store_Sphere_C_OG, Store_point_cloud)))\n",
    "        _, _, SDF = zip(*saved_area)\n",
    "        Store_SD_sphers.append(np.hstack(SDF))\n",
    "        \n",
    "        # ----Outlier SD------\n",
    "        store_view = Reduces.vertices.view([('', Reduces.vertices.dtype)] * Reduces.vertices.shape[1])\n",
    "        reduce_view =  np.vstack(Store_point_cloud).view([('', np.vstack(Store_point_cloud).dtype)] * np.vstack(Store_point_cloud).shape[1])\n",
    "        unique_rows = np.setdiff1d(store_view, reduce_view)\n",
    "        unique_rows = unique_rows.view(Reduces.vertices.dtype).reshape(-1, 3)\n",
    "        \n",
    "        SDF_outlier, _, _ = igl.signed_distance(unique_rows, Bool_Spheres_real.vertices,Bool_Spheres_real.faces, return_normals=False)\n",
    "        Store_SD_outlier.append(SDF_outlier[(SDF_outlier<0.2) & (SDF_outlier>-0.2)]) # triming is nesecery for \n",
    "\n",
    "        MEGA_Store_R.append(Store_Sphere_R_OG)\n",
    "        MEGA_Store_SD_outlier.append(Store_SD_outlier)\n",
    "        MEGA_Store_SD_sphers.append(Store_SD_sphers)\n",
    "            \n",
    "    #---DATA for exportation-------\n",
    "    Export_data={\n",
    "    \"Scan_radius\":MEGA_Store_R,\n",
    "    \"SD_outliers\":MEGA_Store_SD_outlier,\n",
    "    \"SD_spheres\":MEGA_Store_SD_sphers\n",
    "    }\n",
    "\n",
    "    if not os.path.exists(Path_to_save):\n",
    "       os.makedirs(Path_to_save)\n",
    "    with open(os.path.join(Path_to_save,file_to_import[:-3]+\"pkl\"), \"wb\") as f:\n",
    "       pickle.dump(Export_data, f)\n",
    "  \n",
    "end_time = time.time()\n",
    "print(\"Time elapsed: %.2f minutes\" % ((end_time - start_time) / 60))"
   ]
  }
 ],
 "metadata": {
  "kernelspec": {
   "display_name": "Python 3 (ipykernel)",
   "language": "python",
   "name": "python3"
  },
  "language_info": {
   "codemirror_mode": {
    "name": "ipython",
    "version": 3
   },
   "file_extension": ".py",
   "mimetype": "text/x-python",
   "name": "python",
   "nbconvert_exporter": "python",
   "pygments_lexer": "ipython3",
   "version": "3.10.13"
  }
 },
 "nbformat": 4,
 "nbformat_minor": 5
}
