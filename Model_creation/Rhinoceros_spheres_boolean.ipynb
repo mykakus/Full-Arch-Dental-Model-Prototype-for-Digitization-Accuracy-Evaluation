{
 "cells": [
  {
   "cell_type": "code",
   "execution_count": null,
   "id": "ce3915df",
   "metadata": {},
   "outputs": [],
   "source": [
    "import trimesh\n",
    "import pandas as pd\n",
    "import numpy as np\n",
    "import os\n",
    "# import polyscope as ps"
   ]
  },
  {
   "cell_type": "code",
   "execution_count": 6,
   "id": "bb0ef158",
   "metadata": {},
   "outputs": [],
   "source": [
    "Your_path=\"\""
   ]
  },
  {
   "cell_type": "code",
   "execution_count": 7,
   "id": "f191b256",
   "metadata": {},
   "outputs": [
    {
     "name": "stdout",
     "output_type": "stream",
     "text": [
      "Loaded 330 sphere centers.\n",
      "Exported STL file\n"
     ]
    }
   ],
   "source": [
    "Spher_centers = pd.read_excel(os.path.join(Your_path,\"Rhino_spheres.xlsx\"), header=None)\n",
    "\n",
    "list_points = []\n",
    "sphere_list = []\n",
    "\n",
    "for i in Spher_centers.index:\n",
    "    radius_center = np.array(Spher_centers.iloc[i, 0][1:-1].split(',')).astype(float)\n",
    "    list_points.append(radius_center)\n",
    "    sphere_list.append(trimesh.primitives.Sphere(radius=2.5, center=radius_center, subdivisions=4))\n",
    "\n",
    "list_points = np.array(list_points)\n",
    "print(f\"Loaded {list_points.shape[0]} sphere centers.\")\n",
    "Bool_model = trimesh.boolean.boolean_manifold(sphere_list, 'union')\n",
    "\n",
    "# Export result\n",
    "Bool_model.export(\"Model_populated_with_spheres.stl\")\n",
    "print(\"Exported STL file\")"
   ]
  },
  {
   "cell_type": "code",
   "execution_count": null,
   "id": "e7081540",
   "metadata": {},
   "outputs": [],
   "source": [
    "# Optionally visualize with Polyscope\n",
    "# ps.init()\n",
    "# ps.register_surface_mesh('Bool', Bool_model.vertices, Bool_model.faces)\n",
    "# ps.show()\n",
    "# ps.remove_all_structures()"
   ]
  }
 ],
 "metadata": {
  "kernelspec": {
   "display_name": "CSG",
   "language": "python",
   "name": "python3"
  },
  "language_info": {
   "codemirror_mode": {
    "name": "ipython",
    "version": 3
   },
   "file_extension": ".py",
   "mimetype": "text/x-python",
   "name": "python",
   "nbconvert_exporter": "python",
   "pygments_lexer": "ipython3",
   "version": "3.12.8"
  }
 },
 "nbformat": 4,
 "nbformat_minor": 5
}
